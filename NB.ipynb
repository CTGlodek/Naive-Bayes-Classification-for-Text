{
 "cells": [
  {
   "attachments": {},
   "cell_type": "markdown",
   "id": "898fb1f8",
   "metadata": {},
   "source": [
    "####  Naïve Bayes Classification for Text"
   ]
  },
  {
   "cell_type": "code",
   "execution_count": 1,
   "id": "1ec4057a",
   "metadata": {},
   "outputs": [],
   "source": [
    "import pandas as pd\n",
    "import numpy as np\n"
   ]
  },
  {
   "cell_type": "code",
   "execution_count": 2,
   "id": "0aa8b742",
   "metadata": {},
   "outputs": [],
   "source": [
    "#import the training files to dataframes\n",
    "words_df = pd.read_csv(\"terms.txt\", header = None)\n",
    "train_class_df = pd.read_csv(\"trainClasses.txt\", header = None, sep='\\t', names=['Classes'])\n",
    "train_matrix_df = pd.read_csv(\"trainMatrix.txt\", header = None, sep='\\t')"
   ]
  },
  {
   "cell_type": "code",
   "execution_count": 3,
   "id": "91a00831",
   "metadata": {},
   "outputs": [],
   "source": [
    "# identify the total number of classes in the data\n",
    "classes = train_class_df['Classes'].unique()\n",
    "\n",
    "# number of classes\n",
    "num_o_classes = classes.size\n",
    "\n",
    "# initalize class dictionary\n",
    "class_dicts = []\n",
    "\n",
    "# var for vocab total\n",
    "vocab_total = 0\n",
    "\n",
    "class_counts = []\n",
    "class_percents = []\n",
    "total_count = 0\n",
    "\n",
    "# total words per class\n",
    "word_per_class = []\n",
    "\n",
    "# identify the vocabulary total\n",
    "vocab_total = words_df.shape[0]\n",
    "\n",
    "#create dictionaries for each class identified\n",
    "i = 0\n",
    "for i in range(num_o_classes):\n",
    "    temp = {}\n",
    "    class_dicts.append(temp)\n",
    "    i = i + 1\n",
    "    \n",
    "# find the total count per class, overall total count, and the percentages\n",
    "for var in classes:\n",
    "    temp = 0\n",
    "    i = 0\n",
    "    for i in range(train_class_df.shape[0]):\n",
    "        if train_class_df.iat[i,0] == var:\n",
    "            temp = temp + 1\n",
    "        i = i + 1\n",
    "    class_counts.append(temp)\n",
    "\n",
    "# total count for all occurances across all classes\n",
    "for var in classes:\n",
    "    total_count = total_count + class_counts[var]\n",
    "\n",
    "# find the percent of occurance for each class\n",
    "for var in classes:\n",
    "    class_percents.append(class_counts[var]/total_count)\n",
    "    \n",
    "# reshape the dataframe\n",
    "train_matrix_df = train_matrix_df.T\n",
    "\n",
    "# add the classes\n",
    "train_matrix_df['Classes'] = pd.Series(train_class_df['Classes'])\n",
    "\n",
    "# seperate out the classes\n",
    "for var in classes:\n",
    "    \n",
    "    test_sum = 0 \n",
    "    \n",
    "    # temp dataframe for calculating the number for each class\n",
    "    temp_df = train_matrix_df[(mask:=train_matrix_df['Classes'] == var)].copy()\n",
    "    \n",
    "    #drop the class column\n",
    "    temp_df.drop(temp_df.columns[[-1]], axis=1, inplace=True)\n",
    "    \n",
    "    # sum each column which coresponds to a unique word\n",
    "    sum_columns = temp_df.sum(axis=0)\n",
    "    \n",
    "    # sum the total for the class\n",
    "    for tmp in sum_columns:\n",
    "        test_sum = test_sum + tmp\n",
    "    \n",
    "    # append the total for this class\n",
    "    word_per_class.append(test_sum)\n",
    "    \n",
    "    # calculate the probability for each word per class and store it in a dictionary with the word are the key\n",
    "    for i in range(len(sum_columns)):\n",
    "        # 1 is added to each word count and vocab is added to the denominator to help smooth the data\n",
    "        prob = (sum_columns[i]+1)/(word_per_class[var]+vocab_total)\n",
    "        class_dicts[var][words_df.iat[i,0]] = prob"
   ]
  },
  {
   "cell_type": "code",
   "execution_count": 4,
   "id": "e803408b",
   "metadata": {},
   "outputs": [
    {
     "name": "stdout",
     "output_type": "stream",
     "text": [
      "Word:  program\n",
      "Class 0 prob:  0.0059020084988922385\n",
      "Class 1 prob:  0.00011006952725138046\n"
     ]
    }
   ],
   "source": [
    "word = 'program'\n",
    "print('Word: ', word)\n",
    "print('Class 0 prob: ',class_dicts[0][\"program\"])\n",
    "print('Class 1 prob: ',class_dicts[1][\"program\"])"
   ]
  },
  {
   "attachments": {},
   "cell_type": "markdown",
   "id": "9ce675fc",
   "metadata": {},
   "source": [
    "# Testing Section "
   ]
  },
  {
   "cell_type": "code",
   "execution_count": 5,
   "id": "62a6d55c",
   "metadata": {},
   "outputs": [],
   "source": [
    "# read in the testing data\n",
    "test_class_df = pd.read_csv(\"testClasses.txt\", header = None, sep='\\t', names=['Classes'])\n",
    "test_matrix_df = pd.read_csv(\"testMatrix.txt\", header = None, sep='\\t')\n",
    "test_words_df = pd.read_csv(\"terms.txt\", header = None)"
   ]
  },
  {
   "cell_type": "code",
   "execution_count": 6,
   "id": "5d6dfc2b",
   "metadata": {},
   "outputs": [],
   "source": [
    "# method returns the word probability \n",
    "# x is the target word\n",
    "def calc_word_prob(word_df, word_dict, matrix_df, x):\n",
    "    i = 0\n",
    "    total_prob = 1\n",
    "    \n",
    "    for i in range(matrix_df.shape[0]):\n",
    "        temp = 0\n",
    "        \n",
    "        if matrix_df.iat[i,x] > 0:\n",
    "            \n",
    "            #log summation to prevetn underflow\n",
    "            temp = matrix_df.iat[i,x]*(np.log(word_dict[word_df.iat[i,0]]))\n",
    "\n",
    "            total_prob = total_prob + temp\n",
    "\n",
    "        i = i + 1\n",
    "\n",
    "    return total_prob\n",
    "\n",
    "# predictor of class\n",
    "def pred_class(class_probs, classes):\n",
    "    pred_classes = []\n",
    "    total_class_probs = 0\n",
    "    \n",
    "    #sum the total probs from all classes\n",
    "    for var in class_probs:\n",
    "        total_class_probs = total_class_probs + var\n",
    "    \n",
    "    # iterate through each prob per class and divide by the combined total probs\n",
    "    for var in class_probs: \n",
    "        pred_classes.append(var/total_class_probs)\n",
    "    \n",
    "    # find where the location of the predicted class \n",
    "    temp = min(pred_classes)\n",
    "    \n",
    "    # return the the predicted class\n",
    "    return pred_classes.index(temp), temp\n",
    "\n",
    "# the main testing method\n",
    "def testing(word_df, word_dict, matrix_df, classes):\n",
    "\n",
    "    # list to hold the predicted classes\n",
    "    pred_classes = []\n",
    "\n",
    "    pred_class_temp = 0\n",
    "    \n",
    "    pred_prob = []\n",
    "    \n",
    "    j = 0\n",
    "    \n",
    "    # iterate through the columns (words) and store the predicted class in pred_classes\n",
    "    for j in range(matrix_df.shape[1]): \n",
    "        \n",
    "        class_temp = []\n",
    "        \n",
    "        # iterate through each class\n",
    "        for var in classes:\n",
    "            \n",
    "            # calculate the probability for this word in each class\n",
    "            class_temp.append(calc_word_prob(word_df, word_dict[var], matrix_df,j))\n",
    "        \n",
    "        # call pred_class to predict the class\n",
    "        pred_class_temp, pred_prob_temp = pred_class(class_temp, classes)\n",
    "\n",
    "        # append the results to the lists\n",
    "        pred_classes.append(pred_class_temp)\n",
    "        pred_prob.append(pred_prob_temp)\n",
    "\n",
    "    return pred_classes, pred_prob\n",
    "\n",
    "# evaluation method\n",
    "def eval_test( class_df, test_results):\n",
    "    perc_correct = 0\n",
    "    number_o_tests = len(test_results)\n",
    "\n",
    "    # iterate and compare the predicted results against the actual class\n",
    "    for i in range(number_o_tests):\n",
    "        if test_results[i] == class_df.iat[i,0]:\n",
    "            perc_correct = perc_correct + 1\n",
    "    \n",
    "    return perc_correct/number_o_tests\n",
    "\n",
    "# method to print out the results from the training section per class\n",
    "def print_training(words, dicts):\n",
    "    for word in words:\n",
    "        print('\\nWord: ', word)\n",
    "        for i in range(len(class_dicts)):\n",
    "            print('    Class {} prob: {}'.format(i, dicts[i][word]))"
   ]
  },
  {
   "attachments": {},
   "cell_type": "markdown",
   "id": "96f6b8a5",
   "metadata": {},
   "source": [
    "# Implement the NB assignment"
   ]
  },
  {
   "cell_type": "code",
   "execution_count": 7,
   "id": "974cf68b",
   "metadata": {},
   "outputs": [],
   "source": [
    "# call the main testing method\n",
    "hw_test, pred = testing(test_words_df, class_dicts, test_matrix_df, classes)"
   ]
  },
  {
   "cell_type": "code",
   "execution_count": 8,
   "id": "bcfb8398",
   "metadata": {},
   "outputs": [
    {
     "name": "stdout",
     "output_type": "stream",
     "text": [
      "Accuracy: 99.5%\n"
     ]
    }
   ],
   "source": [
    "# write up item 1\n",
    "# Evaluate the accuracy\n",
    "result = eval_test(test_class_df, hw_test)\n",
    "print(\"Accuracy: {}%\".format(result*100))"
   ]
  },
  {
   "cell_type": "code",
   "execution_count": 9,
   "id": "80ddcca6",
   "metadata": {},
   "outputs": [
    {
     "name": "stdout",
     "output_type": "stream",
     "text": [
      "Document #1: Predicted Class: 1 <---> 1 :Actual Class   Prob: 0.456874384605304\n",
      "Document #2: Predicted Class: 0 <---> 0 :Actual Class   Prob: 0.4411267320705995\n",
      "Document #3: Predicted Class: 0 <---> 0 :Actual Class   Prob: 0.4903021787093305\n",
      "Document #4: Predicted Class: 1 <---> 1 :Actual Class   Prob: 0.45395539040586014\n",
      "Document #5: Predicted Class: 1 <---> 1 :Actual Class   Prob: 0.44606888666595845\n",
      "Document #6: Predicted Class: 0 <---> 0 :Actual Class   Prob: 0.435478753775912\n",
      "Document #7: Predicted Class: 1 <---> 1 :Actual Class   Prob: 0.44901663880273196\n",
      "Document #8: Predicted Class: 1 <---> 1 :Actual Class   Prob: 0.438903148373382\n",
      "Document #9: Predicted Class: 0 <---> 0 :Actual Class   Prob: 0.47348748842393135\n",
      "Document #10: Predicted Class: 1 <---> 1 :Actual Class   Prob: 0.45149395751438215\n",
      "Document #11: Predicted Class: 0 <---> 0 :Actual Class   Prob: 0.4547064987711618\n",
      "Document #12: Predicted Class: 1 <---> 1 :Actual Class   Prob: 0.4413564053047166\n",
      "Document #13: Predicted Class: 0 <---> 0 :Actual Class   Prob: 0.49488665197384674\n",
      "Document #14: Predicted Class: 0 <---> 0 :Actual Class   Prob: 0.4297288484523956\n",
      "Document #15: Predicted Class: 1 <---> 1 :Actual Class   Prob: 0.46383981502077837\n",
      "Document #16: Predicted Class: 1 <---> 1 :Actual Class   Prob: 0.44736704876466465\n",
      "Document #17: Predicted Class: 0 <---> 0 :Actual Class   Prob: 0.44902146600519877\n",
      "Document #18: Predicted Class: 1 <---> 1 :Actual Class   Prob: 0.4952534218669163\n",
      "Document #19: Predicted Class: 0 <---> 0 :Actual Class   Prob: 0.43083001085863964\n",
      "Document #20: Predicted Class: 0 <---> 0 :Actual Class   Prob: 0.44984611970360955\n"
     ]
    }
   ],
   "source": [
    "# writeup item 2\n",
    "# Print out the first 20 items that were predicted, their actual class, and probability for the class\n",
    "for i in range(20):\n",
    "    print(\"Document #{}: Predicted Class: {} <---> {} :Actual Class   Prob: {}\".format(i+1, hw_test[i], test_class_df.iat[i,0], pred[i]))\n"
   ]
  },
  {
   "cell_type": "code",
   "execution_count": 10,
   "id": "f60e0da3",
   "metadata": {
    "scrolled": true
   },
   "outputs": [
    {
     "name": "stdout",
     "output_type": "stream",
     "text": [
      "\n",
      "Word:  program\n",
      "    Class 0 prob: 0.0059020084988922385\n",
      "    Class 1 prob: 0.00011006952725138046\n",
      "\n",
      "Word:  includ\n",
      "    Class 0 prob: 0.00526640758362692\n",
      "    Class 1 prob: 0.0006971070059254096\n",
      "\n",
      "Word:  match\n",
      "    Class 0 prob: 0.00023608033995568952\n",
      "    Class 1 prob: 0.00038524334537983157\n",
      "\n",
      "Word:  game\n",
      "    Class 0 prob: 0.00021792031380525189\n",
      "    Class 1 prob: 0.012291097209737483\n",
      "\n",
      "Word:  plai\n",
      "    Class 0 prob: 0.0001271201830530636\n",
      "    Class 1 prob: 0.00726458879859111\n",
      "\n",
      "Word:  window\n",
      "    Class 0 prob: 0.013057058802164675\n",
      "    Class 1 prob: 5.503476362569023e-05\n",
      "\n",
      "Word:  file\n",
      "    Class 0 prob: 0.0067010496495114955\n",
      "    Class 1 prob: 5.503476362569023e-05\n",
      "\n",
      "Word:  subject\n",
      "    Class 0 prob: 0.00984273417353721\n",
      "    Class 1 prob: 0.007686521986388068\n",
      "\n",
      "Word:  write\n",
      "    Class 0 prob: 0.0037772854392910324\n",
      "    Class 1 prob: 0.005081543174772064\n"
     ]
    }
   ],
   "source": [
    "# Write up  item 3 \n",
    "#trained model results for program, includ, match, game, plai, window, file, subject, and write\n",
    "\n",
    "words = ['program', 'includ', 'match', 'game', 'plai', 'window', 'file', 'subject', 'write']\n",
    "print_training(words, class_dicts)"
   ]
  },
  {
   "cell_type": "code",
   "execution_count": 11,
   "id": "7931cb76",
   "metadata": {
    "scrolled": true
   },
   "outputs": [
    {
     "name": "stdout",
     "output_type": "stream",
     "text": [
      "\n",
      "Word:  game\n",
      "    Class 0 prob: 0.00021792031380525189\n",
      "    Class 1 prob: 0.012291097209737483\n"
     ]
    }
   ],
   "source": [
    "# Use this section to print the results from teh training section for any particular word(s)\n",
    "words = ['game'] # change the word as needed\n",
    "print_training(words, class_dicts)"
   ]
  },
  {
   "cell_type": "code",
   "execution_count": null,
   "id": "815325d4",
   "metadata": {},
   "outputs": [],
   "source": []
  }
 ],
 "metadata": {
  "kernelspec": {
   "display_name": "Python 3",
   "language": "python",
   "name": "python3"
  },
  "language_info": {
   "codemirror_mode": {
    "name": "ipython",
    "version": 3
   },
   "file_extension": ".py",
   "mimetype": "text/x-python",
   "name": "python",
   "nbconvert_exporter": "python",
   "pygments_lexer": "ipython3",
   "version": "3.8.8"
  }
 },
 "nbformat": 4,
 "nbformat_minor": 5
}
